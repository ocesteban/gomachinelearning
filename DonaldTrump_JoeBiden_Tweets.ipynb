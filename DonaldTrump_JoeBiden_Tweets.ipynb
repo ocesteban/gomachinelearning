{
  "nbformat": 4,
  "nbformat_minor": 0,
  "metadata": {
    "kernelspec": {
      "display_name": "Python 3",
      "language": "python",
      "name": "python3"
    },
    "language_info": {
      "codemirror_mode": {
        "name": "ipython",
        "version": 3
      },
      "file_extension": ".py",
      "mimetype": "text/x-python",
      "name": "python",
      "nbconvert_exporter": "python",
      "pygments_lexer": "ipython3",
      "version": "3.7.4"
    },
    "colab": {
      "name": "DonaldTrump_JoeBiden_Tweets.ipynb",
      "provenance": [],
      "collapsed_sections": [],
      "include_colab_link": true
    }
  },
  "cells": [
    {
      "cell_type": "markdown",
      "metadata": {
        "id": "view-in-github",
        "colab_type": "text"
      },
      "source": [
        "<a href=\"https://colab.research.google.com/github/ocesteban/gomachinelearning/blob/master/DonaldTrump_JoeBiden_Tweets.ipynb\" target=\"_parent\"><img src=\"https://colab.research.google.com/assets/colab-badge.svg\" alt=\"Open In Colab\"/></a>"
      ]
    },
    {
      "cell_type": "code",
      "metadata": {
        "id": "hhNyI1Y0L1T6",
        "colab_type": "code",
        "colab": {}
      },
      "source": [
        "#install python-twitter if needed\n",
        "#!pip install python-twitter"
      ],
      "execution_count": null,
      "outputs": []
    },
    {
      "cell_type": "code",
      "metadata": {
        "id": "qxu341_JL1T-",
        "colab_type": "code",
        "colab": {}
      },
      "source": [
        "import twitter\n",
        "import json\n",
        "\n",
        "# Note: Go to https://developer.twitter.com/en/apply-for-access to get your own secret keys.\n",
        "\n",
        "api = twitter.Api(consumer_key = '---',\n",
        "                      consumer_secret = '---',\n",
        "                      access_token_key = '---',\n",
        "                      access_token_secret = '---',cache=None, tweet_mode='extended')"
      ],
      "execution_count": null,
      "outputs": []
    },
    {
      "cell_type": "code",
      "metadata": {
        "id": "c4yRYwxtL1UB",
        "colab_type": "code",
        "colab": {}
      },
      "source": [
        "def get_user_tweets(api=None, screen_name=None, limit=10):\n",
        "    return api.GetUserTimeline(screen_name=screen_name, count=limit)\n"
      ],
      "execution_count": null,
      "outputs": []
    },
    {
      "cell_type": "code",
      "metadata": {
        "id": "euYYgelZL1UE",
        "colab_type": "code",
        "colab": {}
      },
      "source": [
        "import pickle\n",
        "lst_trump_tweets=[]\n",
        "lst_biden_tweets=[]"
      ],
      "execution_count": null,
      "outputs": []
    },
    {
      "cell_type": "code",
      "metadata": {
        "id": "MUUI5JFwL1UG",
        "colab_type": "code",
        "colab": {}
      },
      "source": [
        "def save_user_tweets_to_file(api,screen_name, file_name, lst_tweets,limit=10):\n",
        "    \n",
        "    f = open(file_name, 'w',encoding=\"utf-8\")\n",
        "    tweets = get_user_tweets(api, screen_name,limit)\n",
        "    print(\"Number of tweets retrieved: {}.\\n\".format(len(tweets)))\n",
        "    for tweet in tweets: \n",
        "        lst_tweets.append(str(tweet.full_text))\n",
        "        f.write(str(tweet.full_text) + '\\n')\n",
        "        \n",
        "    f.close()\n",
        "\n",
        "save_user_tweets_to_file(api,\"@realDonaldTrump\", \"DonaldTrumpTweets.txt\",lst_trump_tweets,500)\n",
        "save_user_tweets_to_file(api,\"@JoeBiden\", \"JoeBidenTweets.txt\",lst_biden_tweets,500)"
      ],
      "execution_count": null,
      "outputs": []
    },
    {
      "cell_type": "code",
      "metadata": {
        "id": "Su8ST7MOL1UM",
        "colab_type": "code",
        "colab": {}
      },
      "source": [
        "with open(\"DonaldTrumpTweets.pickle\", \"wb\") as file:\n",
        "    pickle.dump(lst_trump_tweets, file)\n",
        "file.close()\n",
        "with open(\"JoeBidenTweets.pickle\", \"wb\") as file:\n",
        "    pickle.dump(lst_biden_tweets, file)\n",
        "file.close()"
      ],
      "execution_count": null,
      "outputs": []
    },
    {
      "cell_type": "code",
      "metadata": {
        "id": "NN42SAwpL1UP",
        "colab_type": "code",
        "colab": {}
      },
      "source": [
        "lst_donald_trump_tweets=[]\n",
        "lst_joe_biden_tweets=[]\n",
        "\n",
        "with open(\"DonaldTrumpTweets.pickle\", \"rb\") as file:\n",
        "  lst_donald_trump_tweets = pickle.load(file)\n",
        "\n",
        "with open(\"JoeBidenTweets.pickle\", \"rb\") as file:\n",
        "  lst_joe_biden_tweets = pickle.load(file)\n",
        "\n",
        "len(lst_donald_trump_tweets)"
      ],
      "execution_count": null,
      "outputs": []
    }
  ]
}